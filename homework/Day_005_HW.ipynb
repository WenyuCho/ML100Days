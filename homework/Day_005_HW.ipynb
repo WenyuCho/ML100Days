{
 "cells": [
  {
   "cell_type": "markdown",
   "metadata": {},
   "source": [
    "作業目標\n",
    "計算有缺失值的資料，統計量實作\n",
    "作業重點\n",
    "當遇到缺失值有函式可以處理，不須額外寫程式刪除\n",
    "計算統計量時不能出現缺失值\n",
    "\n",
    "題目:\n",
    "english_score = np.array([55,89,76,65,48,70])\n",
    "math_score = np.array([60,85,60,68,np.nan,60])\n",
    "chinese_score = np.array([65,90,82,72,66,77])\n",
    "上3列共六位同學的英文、數學、國文成績，第一個元素代表第一位同學，舉例第一位同學英文55分、數學60分、國文65分，今天第五位同學因某原因沒來考試，導致數學成績缺值，運用上列數據回答下列問題。\n",
    "\n",
    "請計算各科成績平均、最大值、最小值、標準差，其中數學缺一筆資料可忽略?\n",
    "第五位同學補考數學後成績為55，請計算補考後數學成績平均、最大值、最小值、標準差?\n",
    "用補考後資料找出與國文成績相關係數最高的學科?"
   ]
  },
  {
   "cell_type": "code",
   "execution_count": 34,
   "metadata": {},
   "outputs": [
    {
     "name": "stdout",
     "output_type": "stream",
     "text": [
      "English=> 平均值:67.17 Max:89.00 min:48.00 Standard:13.43\n",
      "Math=> 平均值:66.60 Max:85.00 min:60.00 Standard:9.71\n",
      "Chinese=> 平均值:75.33 Max:90.00 min:65.00 Standard:8.83\n"
     ]
    }
   ],
   "source": [
    "#1. 請計算各科成績平均、最大值、最小值、標準差，其中數學缺一筆資料可忽略?\n",
    "\n",
    "import numpy as np\n",
    "\n",
    "english_score = np.array([55,89,76,65,48,70])\n",
    "math_score = np.array([60,85,60,68,np.nan,60])\n",
    "chinese_score = np.array([65,90,82,72,66,77])\n",
    "\n",
    "print(\"English=>\" + \" 平均值:\" + '%.2f' % (np.nanmean(english_score)) + \" Max:\" + '%.2f' % (np.nanmax(english_score)) \n",
    "      + \" min:\" + '%.2f' % (np.nanmin(english_score)) + \" Standard:\" + '%.2f' % (np.nanstd(english_score)) )\n",
    "\n",
    "print(\"Math=>\" + \" 平均值:\" + '%.2f' % (np.nanmean(math_score)) + \" Max:\" + '%.2f' % (np.nanmax(math_score)) \n",
    "      + \" min:\" + '%.2f' % (np.nanmin(math_score)) + \" Standard:\" + '%.2f' % (np.nanstd(math_score)) )\n",
    "\n",
    "print(\"Chinese=>\" + \" 平均值:\" + '%.2f' % (np.nanmean(chinese_score)) + \" Max:\" + '%.2f' % (np.nanmax(chinese_score)) \n",
    "      + \" min:\" + '%.2f' % (np.nanmin(chinese_score)) + \" Standard:\" + '%.2f' % (np.nanstd(chinese_score)) )"
   ]
  },
  {
   "cell_type": "code",
   "execution_count": 35,
   "metadata": {},
   "outputs": [
    {
     "name": "stdout",
     "output_type": "stream",
     "text": [
      "數學=> 平均值:64.67 max:85.00 min:55.00 std:9.86\n"
     ]
    }
   ],
   "source": [
    "#2. 第五位同學補考數學後成績為55，請計算補考後數學成績平均、最大值、最小值、標準差?\n",
    "\n",
    "math_score[4] = 55\n",
    "print(\"數學=>\" + \" 平均值:\" + '%.2f' % (np.nanmean(math_score)) + \" max:\" + '%.2f' % (np.nanmax(math_score)) \n",
    "      + \" min:\" + '%.2f' % (np.nanmin(math_score)) + \" std:\" + '%.2f' % (np.nanstd(math_score)) )"
   ]
  },
  {
   "cell_type": "code",
   "execution_count": 36,
   "metadata": {},
   "outputs": [
    {
     "name": "stdout",
     "output_type": "stream",
     "text": [
      "Correlaiton coefficient: Chinese & Math [[1.         0.74056803]\n",
      " [0.74056803 1.        ]]\n",
      "Correlaiton coefficient: Chinese & English [[1.         0.97792828]\n",
      " [0.97792828 1.        ]]\n"
     ]
    }
   ],
   "source": [
    "#3. 用補考後資料找出與國文成績相關係數最高的學科?\n",
    "\n",
    "print(\"Correlaiton coefficient: Chinese & Math\", np.corrcoef(chinese_score, math_score))\n",
    "print(\"Correlaiton coefficient: Chinese & English\", np.corrcoef(chinese_score, english_score))"
   ]
  },
  {
   "cell_type": "code",
   "execution_count": null,
   "metadata": {},
   "outputs": [],
   "source": []
  }
 ],
 "metadata": {
  "kernelspec": {
   "display_name": "Python 3",
   "language": "python",
   "name": "python3"
  },
  "language_info": {
   "codemirror_mode": {
    "name": "ipython",
    "version": 3
   },
   "file_extension": ".py",
   "mimetype": "text/x-python",
   "name": "python",
   "nbconvert_exporter": "python",
   "pygments_lexer": "ipython3",
   "version": "3.8.5"
  }
 },
 "nbformat": 4,
 "nbformat_minor": 4
}
