{
 "cells": [
  {
   "cell_type": "markdown",
   "metadata": {},
   "source": [
    "作業目標:\n",
    "\n",
    "敘述統計量計算\n",
    "運用自定義函數apply\n",
    "作業重點:\n",
    "\n",
    "了解敘述統計量並解釋\n",
    "運用apply時須注意自定義函數寫法\n",
    "題目\n",
    "對以下成績資料做分析\n",
    "\n",
    "6號學生(student_id=6)3科平均分數為何?\n",
    "6號學生3科平均分數是否有贏過班上一半的同學?\n",
    "由於班上同學成績不好，所以學校統一加分，加分方式為開根號乘以十，請問6號同學3科成績分別是?\n",
    "承上題，加分後各科班平均變多少?\n",
    "score_df = pd.DataFrame([[1,56,66,70], [2,90,45,34], [3,45,32,55], [4,70,77,89], [5,56,80,70], [6,60,54,55], [7,45,70,79], [8,34,77,76], [9,25,87,60], [10,88,40,43]],columns=['student_id','math_score','english_score','chinese_score'])"
   ]
  },
  {
   "cell_type": "code",
   "execution_count": null,
   "metadata": {},
   "outputs": [],
   "source": [
    "import pandas as pd\n",
    "score_df = pd.DataFrame([[1,56,66,70], [2,90,45,34], [3,45,32,55], [4,70,77,89], [5,56,80,70],\n",
    "                         [6,60,54,55], [7,45,70,79], [8,34,77,76], [9,25,87,60], [10,88,40,43]],\n",
    "                        columns=['student_id','math_score','english_score','chinese_score'])\n",
    "score_df"
   ]
  },
  {
   "cell_type": "code",
   "execution_count": null,
   "metadata": {},
   "outputs": [],
   "source": [
    "#1.6號學生(student_id=6)3科平均分數為何? 56.333333\n",
    "score_df = score_df.set_index('student_id')\n",
    "ms = score_df.mean(axis=1)\n",
    "print(\"6號學生3科平均分數:\" + str(ms[6]) )"
   ]
  },
  {
   "cell_type": "code",
   "execution_count": null,
   "metadata": {},
   "outputs": [],
   "source": [
    "#2.6號學生3科平均分數是否有贏過班上一半的同學? 否\n",
    "median_score = score_df.mean(axis=1)\n",
    "median_score.median()\n",
    "if ms[6] >= median_score.median():\n",
    "    print(\"yes\")\n",
    "else:\n",
    "    print(\"no\")\n"
   ]
  },
  {
   "cell_type": "code",
   "execution_count": null,
   "metadata": {},
   "outputs": [],
   "source": [
    "#3.由於班上同學成績不好，所以學校統一加分，加分方式為開根號乘以十，請問6號同學3科成績分別是? \n",
    "#math:77.459667, english:73.484692, chinese:74.161985\n",
    "new_score = score_df.apply(lambda x : x**(0.5)*10)\n",
    "new_score"
   ]
  },
  {
   "cell_type": "code",
   "execution_count": null,
   "metadata": {},
   "outputs": [],
   "source": [
    "#4.承上題，加分後各科班平均變多少?\n",
    "new_score.mean()"
   ]
  }
 ],
 "metadata": {
  "kernelspec": {
   "display_name": "Python 3",
   "language": "python",
   "name": "python3"
  },
  "language_info": {
   "codemirror_mode": {
    "name": "ipython",
    "version": 3
   },
   "file_extension": ".py",
   "mimetype": "text/x-python",
   "name": "python",
   "nbconvert_exporter": "python",
   "pygments_lexer": "ipython3",
   "version": "3.8.5"
  }
 },
 "nbformat": 4,
 "nbformat_minor": 4
}
