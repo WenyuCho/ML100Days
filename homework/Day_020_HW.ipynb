{
 "cells": [
  {
   "cell_type": "markdown",
   "metadata": {},
   "source": [
    "題目 : \n",
    "\n",
    "在速度較慢的時候，可以先從哪邊開始檢查？\n",
    "資料過大時應採取什麼方式讓記憶體占用量下降？"
   ]
  },
  {
   "cell_type": "markdown",
   "metadata": {},
   "source": [
    "1.首先可以檢查讀取檔案的方式，若使用pkl最佳，之後可以從運算的方式開始檢查(使用內建的函數較佳)，檢查資料是否已經使用向量化來處理，後續可檢查欄位的型態(可降級來提升速度)\n",
    "\n",
    "2.使用降級資料型態來提升記憶體的佔用量下降"
   ]
  }
 ],
 "metadata": {
  "kernelspec": {
   "display_name": "Python 3",
   "language": "python",
   "name": "python3"
  },
  "language_info": {
   "codemirror_mode": {
    "name": "ipython",
    "version": 3
   },
   "file_extension": ".py",
   "mimetype": "text/x-python",
   "name": "python",
   "nbconvert_exporter": "python",
   "pygments_lexer": "ipython3",
   "version": "3.8.5"
  }
 },
 "nbformat": 4,
 "nbformat_minor": 4
}
