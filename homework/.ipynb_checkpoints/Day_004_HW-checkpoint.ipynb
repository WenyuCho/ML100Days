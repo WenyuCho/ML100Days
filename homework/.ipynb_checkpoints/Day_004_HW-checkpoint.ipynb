{
 "cells": [
  {
   "cell_type": "markdown",
   "metadata": {},
   "source": [
    "作業目標\n",
    "熟悉邏輯運算\n",
    "作業重點\n",
    "五大類邏輯函式與其對應的函式操作\n",
    "\n",
    "題目:\n",
    "english_score = np.array([55,89,76,65,48,70])\n",
    "math_score = np.array([60,85,60,68,55,60])\n",
    "chinese_score = np.array([65,90,82,72,66,77])\n",
    "上3列共六位同學的英文、數學、國文成績，第一個元素代表第一位同學，舉例第一位同學英文55分、數學60分、國文65分，運用上列數據回答下列問題。\n",
    "\n",
    "有多少學生英文成績比數學成績高?\n",
    "是否全班同學最高分都是國文?"
   ]
  },
  {
   "cell_type": "code",
   "execution_count": 22,
   "metadata": {},
   "outputs": [
    {
     "name": "stdout",
     "output_type": "stream",
     "text": [
      "英文成績比數學成績高的人數: 3\n"
     ]
    }
   ],
   "source": [
    "import numpy as np\n",
    "english_score = np.array([55,89,76,65,48,70])\n",
    "math_score    = np.array([60,85,60,68,55,60])\n",
    "chinese_score = np.array([65,90,82,72,66,77])\n",
    "\n",
    "count = 0\n",
    "\n",
    "for i in range(len(math_score)):\n",
    "    if(english_score[i] > math_score[i]):\n",
    "        count += 1\n",
    "        \n",
    "print(\"英文成績比數學成績高的人數:\", count)"
   ]
  },
  {
   "cell_type": "code",
   "execution_count": 23,
   "metadata": {},
   "outputs": [
    {
     "name": "stdout",
     "output_type": "stream",
     "text": [
      "是否全班最高都為國文: True\n"
     ]
    }
   ],
   "source": [
    "print(\"是否全班最高都為國文:\", np.all(np.greater(chinese_score, np.greater(math_score, english_score))) )"
   ]
  }
 ],
 "metadata": {
  "kernelspec": {
   "display_name": "Python 3",
   "language": "python",
   "name": "python3"
  },
  "language_info": {
   "codemirror_mode": {
    "name": "ipython",
    "version": 3
   },
   "file_extension": ".py",
   "mimetype": "text/x-python",
   "name": "python",
   "nbconvert_exporter": "python",
   "pygments_lexer": "ipython3",
   "version": "3.8.5"
  }
 },
 "nbformat": 4,
 "nbformat_minor": 4
}
