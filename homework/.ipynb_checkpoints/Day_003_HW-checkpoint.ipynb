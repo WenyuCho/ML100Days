{
 "cells": [
  {
   "cell_type": "markdown",
   "metadata": {},
   "source": [
    "作業目標:\n",
    "嘗試練習log的函式並應用\n",
    "作業重點:\n",
    "學員需要複習log的轉換方式\n",
    "熟悉運用指數函數以及對數函數\n",
    "\n",
    "題目:\n",
    "運用投影片中的分貝公式回答下列問題。\n",
    "公式:\n",
    "GdB = 20*np.log10(v1/v0)  <v0=20>\n",
    "\n",
    "1.正常的談話的聲壓為20000微巴斯卡，請問多少分貝?\n",
    "2.30分貝的聲壓會是50分貝的幾倍?"
   ]
  },
  {
   "cell_type": "code",
   "execution_count": 25,
   "metadata": {},
   "outputs": [
    {
     "name": "stdout",
     "output_type": "stream",
     "text": [
      "60.0 分貝\n"
     ]
    }
   ],
   "source": [
    "#1.正常的談話的聲壓為20000微巴斯卡，請問多少分貝?\n",
    "#請寫下程式\n",
    "\n",
    "import numpy as np\n",
    "\n",
    "v0 = 20\n",
    "v1 = 20000\n",
    "gdb= 20* np.log10(v1/v0)\n",
    "print(gdb , \"分貝\")"
   ]
  },
  {
   "cell_type": "code",
   "execution_count": null,
   "metadata": {},
   "outputs": [],
   "source": [
    "GdB = 20* np.log10(v1/ v0)   <v0=20>\n",
    "=> GdB/ 20 = np.log10(v1/ v0)\n",
    "=> 10** (GdB/ 20) = (v1/ v0)\n",
    "=> v1 = v0* 10** (GdB/ 20)   <v0=20>\n",
    "=> v1 = 20* np.log10(GdB/ 20)"
   ]
  },
  {
   "cell_type": "code",
   "execution_count": 30,
   "metadata": {},
   "outputs": [
    {
     "name": "stdout",
     "output_type": "stream",
     "text": [
      "0.44250704934975993\n"
     ]
    }
   ],
   "source": [
    "#2.30分貝的聲壓會是50分貝的幾倍?\n",
    "#公式移項過後可以得到 V1 = V0*np.log10(GdB/20)\n",
    "#請寫下程式\n",
    "gdb_30 = 30\n",
    "gdb_50 = 50\n",
    "ans = np.log10(30/20)/np.log10(50/20)\n",
    "print(ans)"
   ]
  }
 ],
 "metadata": {
  "kernelspec": {
   "display_name": "Python 3",
   "language": "python",
   "name": "python3"
  },
  "language_info": {
   "codemirror_mode": {
    "name": "ipython",
    "version": 3
   },
   "file_extension": ".py",
   "mimetype": "text/x-python",
   "name": "python",
   "nbconvert_exporter": "python",
   "pygments_lexer": "ipython3",
   "version": "3.8.5"
  }
 },
 "nbformat": 4,
 "nbformat_minor": 4
}
