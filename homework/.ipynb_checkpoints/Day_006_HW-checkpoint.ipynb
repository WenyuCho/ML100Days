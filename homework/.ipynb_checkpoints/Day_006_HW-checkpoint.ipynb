{
 "cells": [
  {
   "cell_type": "markdown",
   "metadata": {},
   "source": [
    "作業目標\n",
    "讀取存取陣列資料\n",
    "作業重點\n",
    "多陣列存一起需要存成npz，讀取須注意npz中有多個陣列\n",
    "\n",
    "題目:\n",
    "\n",
    "將下兩列array存成npz檔\n",
    "array1 = np.array(range(30))\n",
    "array2 = np.array([2,3,5])\n",
    "讀取剛剛的npz檔，加入下列array一起存成新的npz檔"
   ]
  },
  {
   "cell_type": "code",
   "execution_count": 7,
   "metadata": {},
   "outputs": [
    {
     "data": {
      "text/plain": [
       "['array1', 'array2']"
      ]
     },
     "execution_count": 7,
     "metadata": {},
     "output_type": "execute_result"
    }
   ],
   "source": [
    "#. 將下兩列array存成npz檔\n",
    "import numpy as np\n",
    "array1 = np.array(range(30))\n",
    "array2 = np.array([2,3,5])\n",
    "\n",
    "with open (\"array.npz\", \"wb\") as f:\n",
    "    np.savez(f, array1 = array1, array2 = array2)\n",
    "    \n",
    "npzfile = np.load(\"array.npz\")\n",
    "npzfile.files"
   ]
  },
  {
   "cell_type": "code",
   "execution_count": 8,
   "metadata": {},
   "outputs": [
    {
     "name": "stdout",
     "output_type": "stream",
     "text": [
      "[ 0  1  2  3  4  5  6  7  8  9 10 11 12 13 14 15 16 17 18 19 20 21 22 23\n",
      " 24 25 26 27 28 29]\n",
      "[2 3 5]\n"
     ]
    }
   ],
   "source": [
    "print(npzfile[\"array1\"])\n",
    "print(npzfile[\"array2\"])"
   ]
  },
  {
   "cell_type": "code",
   "execution_count": null,
   "metadata": {},
   "outputs": [],
   "source": [
    "#2. 讀取剛剛的npz檔，加入下列array一起存成新的npz檔\n"
   ]
  }
 ],
 "metadata": {
  "kernelspec": {
   "display_name": "Python 3",
   "language": "python",
   "name": "python3"
  },
  "language_info": {
   "codemirror_mode": {
    "name": "ipython",
    "version": 3
   },
   "file_extension": ".py",
   "mimetype": "text/x-python",
   "name": "python",
   "nbconvert_exporter": "python",
   "pygments_lexer": "ipython3",
   "version": "3.8.5"
  }
 },
 "nbformat": 4,
 "nbformat_minor": 4
}
